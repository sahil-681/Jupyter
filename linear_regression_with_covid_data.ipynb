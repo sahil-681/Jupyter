{
 "cells": [
  {
   "cell_type": "markdown",
   "metadata": {},
   "source": [
    "## Linear Regression with Covid Data"
   ]
  },
  {
   "cell_type": "markdown",
   "metadata": {},
   "source": [
    "The New York Times Covid-19 Database is \n",
    "a county-level database of confirmed cases and deaths, \n",
    "compiled from state and local governments and health departments across the United States.\n",
    "The initial release of the database was on Thursday, March 26, 2020, and it is updated daily. \n",
    "\n",
    "The data are publically available via GitHub: [https://github.com/nytimes/covid-19-data](https://www.nytimes.com/interactive/2020/us/coronavirus-us-cases.html).  In this problem we will only use the data aggregated across states."
   ]
  },
  {
   "cell_type": "code",
   "execution_count": 1,
   "metadata": {},
   "outputs": [],
   "source": [
    "import pandas as pd\n",
    "import numpy as np\n",
    "import matplotlib.pyplot as plt"
   ]
  },
  {
   "cell_type": "markdown",
   "metadata": {},
   "source": [
    "### Load the data\n",
    "\n",
    "First, read the whole dataset including the accumulated cases and deaths for each state for each day."
   ]
  },
  {
   "cell_type": "code",
   "execution_count": 2,
   "metadata": {},
   "outputs": [
    {
     "data": {
      "text/html": [
       "<div>\n",
       "<style scoped>\n",
       "    .dataframe tbody tr th:only-of-type {\n",
       "        vertical-align: middle;\n",
       "    }\n",
       "\n",
       "    .dataframe tbody tr th {\n",
       "        vertical-align: top;\n",
       "    }\n",
       "\n",
       "    .dataframe thead th {\n",
       "        text-align: right;\n",
       "    }\n",
       "</style>\n",
       "<table border=\"1\" class=\"dataframe\">\n",
       "  <thead>\n",
       "    <tr style=\"text-align: right;\">\n",
       "      <th></th>\n",
       "      <th>date</th>\n",
       "      <th>state</th>\n",
       "      <th>cases</th>\n",
       "      <th>deaths</th>\n",
       "    </tr>\n",
       "  </thead>\n",
       "  <tbody>\n",
       "    <tr>\n",
       "      <th>52972</th>\n",
       "      <td>2022-10-14</td>\n",
       "      <td>Tennessee</td>\n",
       "      <td>2291224</td>\n",
       "      <td>27717</td>\n",
       "    </tr>\n",
       "    <tr>\n",
       "      <th>52973</th>\n",
       "      <td>2022-10-14</td>\n",
       "      <td>Texas</td>\n",
       "      <td>7909316</td>\n",
       "      <td>91224</td>\n",
       "    </tr>\n",
       "    <tr>\n",
       "      <th>52974</th>\n",
       "      <td>2022-10-14</td>\n",
       "      <td>Utah</td>\n",
       "      <td>1041933</td>\n",
       "      <td>5034</td>\n",
       "    </tr>\n",
       "    <tr>\n",
       "      <th>52975</th>\n",
       "      <td>2022-10-14</td>\n",
       "      <td>Vermont</td>\n",
       "      <td>143683</td>\n",
       "      <td>732</td>\n",
       "    </tr>\n",
       "    <tr>\n",
       "      <th>52976</th>\n",
       "      <td>2022-10-14</td>\n",
       "      <td>Virgin Islands</td>\n",
       "      <td>23240</td>\n",
       "      <td>123</td>\n",
       "    </tr>\n",
       "    <tr>\n",
       "      <th>52977</th>\n",
       "      <td>2022-10-14</td>\n",
       "      <td>Virginia</td>\n",
       "      <td>2102929</td>\n",
       "      <td>22032</td>\n",
       "    </tr>\n",
       "    <tr>\n",
       "      <th>52978</th>\n",
       "      <td>2022-10-14</td>\n",
       "      <td>Washington</td>\n",
       "      <td>1827975</td>\n",
       "      <td>14485</td>\n",
       "    </tr>\n",
       "    <tr>\n",
       "      <th>52979</th>\n",
       "      <td>2022-10-14</td>\n",
       "      <td>West Virginia</td>\n",
       "      <td>604108</td>\n",
       "      <td>7470</td>\n",
       "    </tr>\n",
       "    <tr>\n",
       "      <th>52980</th>\n",
       "      <td>2022-10-14</td>\n",
       "      <td>Wisconsin</td>\n",
       "      <td>1880837</td>\n",
       "      <td>15352</td>\n",
       "    </tr>\n",
       "    <tr>\n",
       "      <th>52981</th>\n",
       "      <td>2022-10-14</td>\n",
       "      <td>Wyoming</td>\n",
       "      <td>177635</td>\n",
       "      <td>1904</td>\n",
       "    </tr>\n",
       "  </tbody>\n",
       "</table>\n",
       "</div>"
      ],
      "text/plain": [
       "             date           state    cases  deaths\n",
       "52972  2022-10-14       Tennessee  2291224   27717\n",
       "52973  2022-10-14           Texas  7909316   91224\n",
       "52974  2022-10-14            Utah  1041933    5034\n",
       "52975  2022-10-14         Vermont   143683     732\n",
       "52976  2022-10-14  Virgin Islands    23240     123\n",
       "52977  2022-10-14        Virginia  2102929   22032\n",
       "52978  2022-10-14      Washington  1827975   14485\n",
       "52979  2022-10-14   West Virginia   604108    7470\n",
       "52980  2022-10-14       Wisconsin  1880837   15352\n",
       "52981  2022-10-14         Wyoming   177635    1904"
      ]
     },
     "execution_count": 2,
     "metadata": {},
     "output_type": "execute_result"
    }
   ],
   "source": [
    "covid_table = pd.read_csv(\"https://raw.githubusercontent.com/nytimes/covid-19-data/master/us-states.csv\")\n",
    "covid_table = covid_table.drop('fips', axis=1)\n",
    "covid_table.tail(10)"
   ]
  },
  {
   "cell_type": "markdown",
   "metadata": {},
   "source": [
    "### Aggregate data across states\n",
    "\n",
    "We can merge data from different states to get the total number of cases and deaths for the country. Here we also show an example of visualizing the data."
   ]
  },
  {
   "cell_type": "code",
   "execution_count": 3,
   "metadata": {},
   "outputs": [
    {
     "data": {
      "text/html": [
       "<div>\n",
       "<style scoped>\n",
       "    .dataframe tbody tr th:only-of-type {\n",
       "        vertical-align: middle;\n",
       "    }\n",
       "\n",
       "    .dataframe tbody tr th {\n",
       "        vertical-align: top;\n",
       "    }\n",
       "\n",
       "    .dataframe thead th {\n",
       "        text-align: right;\n",
       "    }\n",
       "</style>\n",
       "<table border=\"1\" class=\"dataframe\">\n",
       "  <thead>\n",
       "    <tr style=\"text-align: right;\">\n",
       "      <th></th>\n",
       "      <th>cases</th>\n",
       "      <th>deaths</th>\n",
       "    </tr>\n",
       "    <tr>\n",
       "      <th>date</th>\n",
       "      <th></th>\n",
       "      <th></th>\n",
       "    </tr>\n",
       "  </thead>\n",
       "  <tbody>\n",
       "    <tr>\n",
       "      <th>2022-10-05</th>\n",
       "      <td>96328933</td>\n",
       "      <td>1057185</td>\n",
       "    </tr>\n",
       "    <tr>\n",
       "      <th>2022-10-06</th>\n",
       "      <td>96402681</td>\n",
       "      <td>1057889</td>\n",
       "    </tr>\n",
       "    <tr>\n",
       "      <th>2022-10-07</th>\n",
       "      <td>96437335</td>\n",
       "      <td>1058206</td>\n",
       "    </tr>\n",
       "    <tr>\n",
       "      <th>2022-10-08</th>\n",
       "      <td>96441582</td>\n",
       "      <td>1058242</td>\n",
       "    </tr>\n",
       "    <tr>\n",
       "      <th>2022-10-09</th>\n",
       "      <td>96447636</td>\n",
       "      <td>1058245</td>\n",
       "    </tr>\n",
       "    <tr>\n",
       "      <th>2022-10-10</th>\n",
       "      <td>96471883</td>\n",
       "      <td>1058408</td>\n",
       "    </tr>\n",
       "    <tr>\n",
       "      <th>2022-10-11</th>\n",
       "      <td>96522454</td>\n",
       "      <td>1059005</td>\n",
       "    </tr>\n",
       "    <tr>\n",
       "      <th>2022-10-12</th>\n",
       "      <td>96596469</td>\n",
       "      <td>1059792</td>\n",
       "    </tr>\n",
       "    <tr>\n",
       "      <th>2022-10-13</th>\n",
       "      <td>96671641</td>\n",
       "      <td>1060430</td>\n",
       "    </tr>\n",
       "    <tr>\n",
       "      <th>2022-10-14</th>\n",
       "      <td>96701250</td>\n",
       "      <td>1060815</td>\n",
       "    </tr>\n",
       "  </tbody>\n",
       "</table>\n",
       "</div>"
      ],
      "text/plain": [
       "               cases   deaths\n",
       "date                         \n",
       "2022-10-05  96328933  1057185\n",
       "2022-10-06  96402681  1057889\n",
       "2022-10-07  96437335  1058206\n",
       "2022-10-08  96441582  1058242\n",
       "2022-10-09  96447636  1058245\n",
       "2022-10-10  96471883  1058408\n",
       "2022-10-11  96522454  1059005\n",
       "2022-10-12  96596469  1059792\n",
       "2022-10-13  96671641  1060430\n",
       "2022-10-14  96701250  1060815"
      ]
     },
     "execution_count": 3,
     "metadata": {},
     "output_type": "execute_result"
    }
   ],
   "source": [
    "merged_data = covid_table.drop('state', axis=1)\n",
    "merged_data = merged_data.groupby('date').sum()\n",
    "merged_data.tail(10)"
   ]
  },
  {
   "cell_type": "code",
   "execution_count": 4,
   "metadata": {},
   "outputs": [
    {
     "data": {
      "image/png": "[encoded data removed]",
      "text/plain": [
       "<Figure size 576x360 with 1 Axes>"
      ]
     },
     "metadata": {
      "needs_background": "light"
     },
     "output_type": "display_data"
    }
   ],
   "source": [
    "new_cases = np.diff(merged_data['cases'])\n",
    "dates = np.array(merged_data['cases'].index)\n",
    "plt.figure(figsize=(8,5))\n",
    "plt.plot(dates, merged_data['cases'])\n",
    "plt.xticks(dates[list(np.arange(0, 1000, 100)) + [len(dates)-1]], rotation=90)\n",
    "_ = plt.title('Cumulative cases in the US')"
   ]
  },
  {
   "cell_type": "markdown",
   "metadata": {},
   "source": [
    "Let's call April 1, 2021 to May 1, 2021 Period 1. The following code extracts the cumulative cases, deaths, and days during this period\n",
    "\n"
   ]
  },
  {
   "cell_type": "code",
   "execution_count": 5,
   "metadata": {},
   "outputs": [
    {
     "data": {
      "text/html": [
       "<div>\n",
       "<style scoped>\n",
       "    .dataframe tbody tr th:only-of-type {\n",
       "        vertical-align: middle;\n",
       "    }\n",
       "\n",
       "    .dataframe tbody tr th {\n",
       "        vertical-align: top;\n",
       "    }\n",
       "\n",
       "    .dataframe thead th {\n",
       "        text-align: right;\n",
       "    }\n",
       "</style>\n",
       "<table border=\"1\" class=\"dataframe\">\n",
       "  <thead>\n",
       "    <tr style=\"text-align: right;\">\n",
       "      <th></th>\n",
       "      <th>cases</th>\n",
       "      <th>deaths</th>\n",
       "      <th>days</th>\n",
       "    </tr>\n",
       "    <tr>\n",
       "      <th>date</th>\n",
       "      <th></th>\n",
       "      <th></th>\n",
       "      <th></th>\n",
       "    </tr>\n",
       "  </thead>\n",
       "  <tbody>\n",
       "    <tr>\n",
       "      <th>2021-04-01</th>\n",
       "      <td>30556079</td>\n",
       "      <td>552618</td>\n",
       "      <td>1</td>\n",
       "    </tr>\n",
       "    <tr>\n",
       "      <th>2021-04-02</th>\n",
       "      <td>30624668</td>\n",
       "      <td>553574</td>\n",
       "      <td>2</td>\n",
       "    </tr>\n",
       "    <tr>\n",
       "      <th>2021-04-03</th>\n",
       "      <td>30688804</td>\n",
       "      <td>554327</td>\n",
       "      <td>3</td>\n",
       "    </tr>\n",
       "    <tr>\n",
       "      <th>2021-04-04</th>\n",
       "      <td>30725627</td>\n",
       "      <td>554599</td>\n",
       "      <td>4</td>\n",
       "    </tr>\n",
       "    <tr>\n",
       "      <th>2021-04-05</th>\n",
       "      <td>30802221</td>\n",
       "      <td>555129</td>\n",
       "      <td>5</td>\n",
       "    </tr>\n",
       "    <tr>\n",
       "      <th>2021-04-06</th>\n",
       "      <td>30864193</td>\n",
       "      <td>556038</td>\n",
       "      <td>6</td>\n",
       "    </tr>\n",
       "    <tr>\n",
       "      <th>2021-04-07</th>\n",
       "      <td>30937283</td>\n",
       "      <td>558609</td>\n",
       "      <td>7</td>\n",
       "    </tr>\n",
       "    <tr>\n",
       "      <th>2021-04-08</th>\n",
       "      <td>31017741</td>\n",
       "      <td>559611</td>\n",
       "      <td>8</td>\n",
       "    </tr>\n",
       "    <tr>\n",
       "      <th>2021-04-09</th>\n",
       "      <td>31099323</td>\n",
       "      <td>560557</td>\n",
       "      <td>9</td>\n",
       "    </tr>\n",
       "    <tr>\n",
       "      <th>2021-04-10</th>\n",
       "      <td>31164081</td>\n",
       "      <td>561261</td>\n",
       "      <td>10</td>\n",
       "    </tr>\n",
       "  </tbody>\n",
       "</table>\n",
       "</div>"
      ],
      "text/plain": [
       "               cases  deaths  days\n",
       "date                              \n",
       "2021-04-01  30556079  552618     1\n",
       "2021-04-02  30624668  553574     2\n",
       "2021-04-03  30688804  554327     3\n",
       "2021-04-04  30725627  554599     4\n",
       "2021-04-05  30802221  555129     5\n",
       "2021-04-06  30864193  556038     6\n",
       "2021-04-07  30937283  558609     7\n",
       "2021-04-08  31017741  559611     8\n",
       "2021-04-09  31099323  560557     9\n",
       "2021-04-10  31164081  561261    10"
      ]
     },
     "execution_count": 5,
     "metadata": {},
     "output_type": "execute_result"
    }
   ],
   "source": [
    "first_date = '2021-04-01'\n",
    "last_date = '2021-05-01'\n",
    "merged_data_period1 = merged_data[(merged_data['cases'].index >= first_date) & \n",
    "                                  (merged_data['cases'].index <= last_date)]\n",
    "merged_data_period1.insert(2,\"days\",np.arange(len(merged_data_period1))+1)\n",
    "merged_data_period1.head(10)\n"
   ]
  },
  {
   "cell_type": "markdown",
   "metadata": {},
   "source": [
    "Visualize the accumulated cases in period 1. You can use any graph you like, such as line plot, scatter plot, and bar plot. The x-axis should be `days`.\n",
    "\n"
   ]
  },
  {
   "cell_type": "code",
   "execution_count": 6,
   "metadata": {},
   "outputs": [
    {
     "data": {
      "image/png": "[encoded data removed]",
      "text/plain": [
       "<Figure size 576x432 with 1 Axes>"
      ]
     },
     "metadata": {
      "needs_background": "light"
     },
     "output_type": "display_data"
    }
   ],
   "source": [
    "plt.figure(figsize=(8,6))\n",
    "plt.plot(merged_data_period1.days, merged_data_period1.cases)\n",
    "plt.plot(merged_data_period1.days, merged_data_period1.deaths)\n",
    "plt.xlabel('Days')\n",
    "plt.ylabel('Cases & Deaths')\n",
    "plt.title('Covid Trend in April 1, 2021 to May 1, 2021')\n",
    "plt.legend(['Cases', 'Deaths'])\n",
    "plt.show()"
   ]
  },
  {
   "cell_type": "markdown",
   "metadata": {},
   "source": [
    "Now, calculate the least-squares estimates of the coefficients for the linear model that includes a slope and an intercept: \n",
    "\n",
    "$$\\text{cases}_i = \\beta_0 + \\beta_1 \\text{days}_i + \\epsilon_i$$\n",
    "\n",
    "You may either compute these values with explicit expressions, or use a package such as <code>statsmodels.api.OLS</code>. Use our demo from class as an example, if you wish.\n",
    "\n"
   ]
  },
  {
   "cell_type": "code",
   "execution_count": 7,
   "metadata": {},
   "outputs": [
    {
     "name": "stdout",
     "output_type": "stream",
     "text": [
      "                            OLS Regression Results                            \n",
      "==============================================================================\n",
      "Dep. Variable:                  cases   R-squared:                       0.996\n",
      "Model:                            OLS   Adj. R-squared:                  0.996\n",
      "Method:                 Least Squares   F-statistic:                     7761.\n",
      "Date:                Sat, 15 Oct 2022   Prob (F-statistic):           8.81e-37\n",
      "Time:                        16:19:47   Log-Likelihood:                -367.88\n",
      "No. Observations:                  31   AIC:                             739.8\n",
      "Df Residuals:                      29   BIC:                             742.6\n",
      "Df Model:                           1                                         \n",
      "Covariance Type:            nonrobust                                         \n",
      "==============================================================================\n",
      "                 coef    std err          t      P>|t|      [0.025      0.975]\n",
      "------------------------------------------------------------------------------\n",
      "const       3.052e+07   1.31e+04   2325.884      0.000    3.05e+07    3.05e+07\n",
      "days        6.307e+04    715.861     88.098      0.000    6.16e+04    6.45e+04\n",
      "==============================================================================\n",
      "Omnibus:                        5.921   Durbin-Watson:                   0.140\n",
      "Prob(Omnibus):                  0.052   Jarque-Bera (JB):                1.929\n",
      "Skew:                          -0.084   Prob(JB):                        0.381\n",
      "Kurtosis:                       1.789   Cond. No.                         37.7\n",
      "==============================================================================\n",
      "\n",
      "Notes:\n",
      "[1] Standard Errors assume that the covariance matrix of the errors is correctly specified.\n"
     ]
    }
   ],
   "source": [
    "import statsmodels.api as sm\n",
    "x = merged_data_period1.days\n",
    "y = merged_data_period1.cases\n",
    "X = sm.add_constant(x)\n",
    "model = sm.OLS(y, X)\n",
    "result = model.fit()\n",
    "beta = [result.params[0], result.params[1]]\n",
    "print(result.summary())"
   ]
  },
  {
   "cell_type": "markdown",
   "metadata": {},
   "source": [
    "Now, plot the data together with the linear fit, shown as a straight line."
   ]
  },
  {
   "cell_type": "code",
   "execution_count": 8,
   "metadata": {},
   "outputs": [
    {
     "data": {
      "image/png": "[encoded data removed]",
      "text/plain": [
       "<Figure size 432x288 with 1 Axes>"
      ]
     },
     "metadata": {
      "needs_background": "light"
     },
     "output_type": "display_data"
    }
   ],
   "source": [
    "plt.scatter(x, y, alpha=.5)\n",
    "_ = plt.plot(x, beta[0] + beta[1]*x, color='red', linewidth=2)"
   ]
  },
  {
   "cell_type": "markdown",
   "metadata": {},
   "source": [
    "Modify the code in 1.1 to fit and visualize a linear regression model for Period 2, July 1, 2021 to August 1, 2021."
   ]
  },
  {
   "cell_type": "code",
   "execution_count": 9,
   "metadata": {},
   "outputs": [
    {
     "data": {
      "text/html": [
       "<div>\n",
       "<style scoped>\n",
       "    .dataframe tbody tr th:only-of-type {\n",
       "        vertical-align: middle;\n",
       "    }\n",
       "\n",
       "    .dataframe tbody tr th {\n",
       "        vertical-align: top;\n",
       "    }\n",
       "\n",
       "    .dataframe thead th {\n",
       "        text-align: right;\n",
       "    }\n",
       "</style>\n",
       "<table border=\"1\" class=\"dataframe\">\n",
       "  <thead>\n",
       "    <tr style=\"text-align: right;\">\n",
       "      <th></th>\n",
       "      <th>cases</th>\n",
       "      <th>deaths</th>\n",
       "      <th>days</th>\n",
       "    </tr>\n",
       "    <tr>\n",
       "      <th>date</th>\n",
       "      <th></th>\n",
       "      <th></th>\n",
       "      <th></th>\n",
       "    </tr>\n",
       "  </thead>\n",
       "  <tbody>\n",
       "    <tr>\n",
       "      <th>2021-07-01</th>\n",
       "      <td>33704723</td>\n",
       "      <td>604707</td>\n",
       "      <td>1</td>\n",
       "    </tr>\n",
       "    <tr>\n",
       "      <th>2021-07-02</th>\n",
       "      <td>33725159</td>\n",
       "      <td>604973</td>\n",
       "      <td>2</td>\n",
       "    </tr>\n",
       "    <tr>\n",
       "      <th>2021-07-03</th>\n",
       "      <td>33729152</td>\n",
       "      <td>605059</td>\n",
       "      <td>3</td>\n",
       "    </tr>\n",
       "    <tr>\n",
       "      <th>2021-07-04</th>\n",
       "      <td>33732074</td>\n",
       "      <td>605096</td>\n",
       "      <td>4</td>\n",
       "    </tr>\n",
       "    <tr>\n",
       "      <th>2021-07-05</th>\n",
       "      <td>33736665</td>\n",
       "      <td>605137</td>\n",
       "      <td>5</td>\n",
       "    </tr>\n",
       "    <tr>\n",
       "      <th>2021-07-06</th>\n",
       "      <td>33763742</td>\n",
       "      <td>605454</td>\n",
       "      <td>6</td>\n",
       "    </tr>\n",
       "    <tr>\n",
       "      <th>2021-07-07</th>\n",
       "      <td>33793961</td>\n",
       "      <td>605776</td>\n",
       "      <td>7</td>\n",
       "    </tr>\n",
       "    <tr>\n",
       "      <th>2021-07-08</th>\n",
       "      <td>33843194</td>\n",
       "      <td>606142</td>\n",
       "      <td>8</td>\n",
       "    </tr>\n",
       "    <tr>\n",
       "      <th>2021-07-09</th>\n",
       "      <td>33878529</td>\n",
       "      <td>606549</td>\n",
       "      <td>9</td>\n",
       "    </tr>\n",
       "    <tr>\n",
       "      <th>2021-07-10</th>\n",
       "      <td>33886287</td>\n",
       "      <td>606637</td>\n",
       "      <td>10</td>\n",
       "    </tr>\n",
       "  </tbody>\n",
       "</table>\n",
       "</div>"
      ],
      "text/plain": [
       "               cases  deaths  days\n",
       "date                              \n",
       "2021-07-01  33704723  604707     1\n",
       "2021-07-02  33725159  604973     2\n",
       "2021-07-03  33729152  605059     3\n",
       "2021-07-04  33732074  605096     4\n",
       "2021-07-05  33736665  605137     5\n",
       "2021-07-06  33763742  605454     6\n",
       "2021-07-07  33793961  605776     7\n",
       "2021-07-08  33843194  606142     8\n",
       "2021-07-09  33878529  606549     9\n",
       "2021-07-10  33886287  606637    10"
      ]
     },
     "execution_count": 9,
     "metadata": {},
     "output_type": "execute_result"
    }
   ],
   "source": [
    "first_date = '2021-07-01'\n",
    "last_date = '2021-08-01'\n",
    "merged_data_period2 = merged_data[(merged_data['cases'].index >= first_date) & \n",
    "                                  (merged_data['cases'].index <= last_date)]\n",
    "merged_data_period2.insert(2,\"days\",np.arange(len(merged_data_period2))+1)\n",
    "merged_data_period2.head(10)\n"
   ]
  },
  {
   "cell_type": "markdown",
   "metadata": {},
   "source": [
    "Visualize the data\n"
   ]
  },
  {
   "cell_type": "code",
   "execution_count": 10,
   "metadata": {},
   "outputs": [
    {
     "data": {
      "image/png": "[encoded data removed]",
      "text/plain": [
       "<Figure size 576x432 with 1 Axes>"
      ]
     },
     "metadata": {
      "needs_background": "light"
     },
     "output_type": "display_data"
    }
   ],
   "source": [
    "plt.figure(figsize=(8,6))\n",
    "plt.plot(merged_data_period2.days, merged_data_period2.cases)\n",
    "plt.plot(merged_data_period2.days, merged_data_period2.deaths)\n",
    "plt.xlabel('Days')\n",
    "plt.ylabel('Cases & Deaths')\n",
    "plt.title('Covid Trend in July 1, 2021 to August 1, 2021')\n",
    "plt.legend(['Cases', 'Deaths'])\n",
    "plt.show()"
   ]
  },
  {
   "cell_type": "markdown",
   "metadata": {},
   "source": [
    "Compute a linear regression"
   ]
  },
  {
   "cell_type": "code",
   "execution_count": 11,
   "metadata": {},
   "outputs": [
    {
     "name": "stdout",
     "output_type": "stream",
     "text": [
      "                            OLS Regression Results                            \n",
      "==============================================================================\n",
      "Dep. Variable:                  cases   R-squared:                       0.939\n",
      "Model:                            OLS   Adj. R-squared:                  0.937\n",
      "Method:                 Least Squares   F-statistic:                     465.4\n",
      "Date:                Thu, 29 Sep 2022   Prob (F-statistic):           8.05e-20\n",
      "Time:                        16:08:52   Log-Likelihood:                -414.50\n",
      "No. Observations:                  32   AIC:                             833.0\n",
      "Df Residuals:                      30   BIC:                             835.9\n",
      "Df Model:                           1                                         \n",
      "Covariance Type:            nonrobust                                         \n",
      "==============================================================================\n",
      "                 coef    std err          t      P>|t|      [0.025      0.975]\n",
      "------------------------------------------------------------------------------\n",
      "const       3.348e+07   3.82e+04    876.620      0.000    3.34e+07    3.36e+07\n",
      "days        4.357e+04   2019.954     21.572      0.000    3.94e+04    4.77e+04\n",
      "==============================================================================\n",
      "Omnibus:                        4.032   Durbin-Watson:                   0.100\n",
      "Prob(Omnibus):                  0.133   Jarque-Bera (JB):                2.906\n",
      "Skew:                           0.584   Prob(JB):                        0.234\n",
      "Kurtosis:                       2.098   Cond. No.                         38.8\n",
      "==============================================================================\n",
      "\n",
      "Notes:\n",
      "[1] Standard Errors assume that the covariance matrix of the errors is correctly specified.\n"
     ]
    }
   ],
   "source": [
    "import statsmodels.api as sm\n",
    "x2 = merged_data_period2.days\n",
    "y2 = merged_data_period2.cases\n",
    "X2 = sm.add_constant(x2)\n",
    "model2 = sm.OLS(y2, X2)\n",
    "result2 = model2.fit()\n",
    "beta2 = [result2.params[0], result2.params[1]]\n",
    "print(result2.summary())"
   ]
  },
  {
   "cell_type": "markdown",
   "metadata": {},
   "source": [
    "Plot the data together with the linear regression here\n"
   ]
  },
  {
   "cell_type": "code",
   "execution_count": 12,
   "metadata": {},
   "outputs": [
    {
     "data": {
      "image/png": "[encoded data removed]",
      "text/plain": [
       "<Figure size 432x288 with 1 Axes>"
      ]
     },
     "metadata": {
      "needs_background": "light"
     },
     "output_type": "display_data"
    }
   ],
   "source": [
    "plt.scatter(x2, y2, alpha=.5)\n",
    "_ = plt.plot(x2, beta2[0] + beta2[1]*x2, color='red', linewidth=2)"
   ]
  },
  {
   "cell_type": "markdown",
   "metadata": {},
   "source": [
    "Compare the linear regression results for 1.1 and 1.2. In which case does the model better fit the data? Please verify your answer *quantitatively*."
   ]
  },
  {
   "cell_type": "code",
   "execution_count": 274,
   "metadata": {},
   "outputs": [
    {
     "name": "stdout",
     "output_type": "stream",
     "text": [
      "R-squared for 1.1:  0.9962773637663771\n",
      "R-squared for 1.2:  0.9394373293744889\n",
      "As we can see, the R-squared value for 1.1 is higher, we can say that model fits the data better.\n",
      "It is also clearly evident through the graphs\n"
     ]
    }
   ],
   "source": [
    "print(\"R-squared for 1.1: \", result.rsquared)\n",
    "print(\"R-squared for 1.2: \", result2.rsquared)\n",
    "print(\"As we can see, the R-squared value for 1.1 is higher, we can say that model fits the data better.\")\n",
    "print(\"It is also clearly evident through the graphs\")"
   ]
  }
 ],
 "metadata": {
  "kernelspec": {
   "display_name": "Python 3",
   "language": "python",
   "name": "python3"
  },
  "language_info": {
   "codemirror_mode": {
    "name": "ipython",
    "version": 3
   },
   "file_extension": ".py",
   "mimetype": "text/x-python",
   "name": "python",
   "nbconvert_exporter": "python",
   "pygments_lexer": "ipython3",
   "version": "3.8.8"
  }
 },
 "nbformat": 4,
 "nbformat_minor": 2
}
